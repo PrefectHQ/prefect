{
 "cells": [
  {
   "cell_type": "code",
   "execution_count": null,
   "metadata": {},
   "outputs": [],
   "source": [
    "def run(flow, **parameters):\n",
    "    \"\"\"\n",
    "    Convenience function that figures out a flow's terminal task, then\n",
    "    runs the flow with the provided parameters and returns that task's result.\n",
    "    \"\"\"\n",
    "    task = list(flow.terminal_tasks())[0]\n",
    "    state = flow.run(parameters=parameters)\n",
    "    return state.result[task].result\n"
   ]
  },
  {
   "cell_type": "code",
   "execution_count": null,
   "metadata": {},
   "outputs": [],
   "source": [
    "from prefect import Flow, Parameter\n",
    "\n",
    "with Flow('Add one') as flow:\n",
    "    result = Parameter('x') + 1\n"
   ]
  },
  {
   "cell_type": "code",
   "execution_count": null,
   "metadata": {},
   "outputs": [],
   "source": [
    "assert run(flow, x=1) == 2\n",
    "assert run(flow, x=2) == 3\n",
    "assert run(flow, x=-100) == -99\n"
   ]
  },
  {
   "cell_type": "code",
   "execution_count": null,
   "metadata": {},
   "outputs": [],
   "source": [
    "with Flow('Add x and y') as flow:\n",
    "    result = Parameter('x') + Parameter('y')\n"
   ]
  },
  {
   "cell_type": "code",
   "execution_count": null,
   "metadata": {},
   "outputs": [],
   "source": [
    "assert run(flow, x=1, y=1) == 2\n",
    "assert run(flow, x=40, y=2) == 42\n"
   ]
  },
  {
   "cell_type": "code",
   "execution_count": null,
   "metadata": {},
   "outputs": [],
   "source": [
    "from prefect.tasks.control_flow import switch, merge\n",
    "\n",
    "with Flow('Arithmetic') as flow:\n",
    "    x, y = Parameter('x'), Parameter('y')\n",
    "    operations = {\n",
    "        '+': x + y,\n",
    "        '-': x - y,\n",
    "        '*': x * y,\n",
    "        '/': x / y\n",
    "    }\n",
    "    switch(condition=Parameter('op'), cases=operations)\n",
    "    result = merge(*operations.values())\n"
   ]
  },
  {
   "cell_type": "code",
   "execution_count": null,
   "metadata": {},
   "outputs": [],
   "source": [
    "assert run(flow, x=1, op='+', y=2) == 3\n",
    "assert run(flow, x=1, op='-', y=2) == -1\n",
    "assert run(flow, x=1, op='*', y=2) == 2\n",
    "assert run(flow, x=1, op='/', y=2) == 0.5\n"
   ]
  },
  {
   "cell_type": "code",
   "execution_count": null,
   "metadata": {},
   "outputs": [],
   "source": [
    "from prefect import task\n",
    "from prefect.tasks.control_flow import switch, merge\n",
    "\n",
    "@task\n",
    "def parse_input(i):\n",
    "    x, op, y = i.split(' ')\n",
    "    return dict(x=float(x), op=op, y=float(y))\n",
    "\n",
    "with Flow('Arithmetic') as flow:\n",
    "    inputs = parse_input(Parameter('expression'))\n",
    "    x, y = inputs['x'], inputs['y']\n",
    "    operations = {\n",
    "        '+': x + y,\n",
    "        '-': x - y,\n",
    "        '*': x * y,\n",
    "        '/': x / y\n",
    "    }\n",
    "    switch(condition=inputs['op'], cases=operations)\n",
    "    result = merge(*operations.values())\n"
   ]
  },
  {
   "cell_type": "code",
   "execution_count": null,
   "metadata": {},
   "outputs": [],
   "source": [
    "assert run(flow, expression='1 + 2') == 3\n",
    "assert run(flow, expression='1 - 2') == -1\n",
    "assert run(flow, expression='1 * 2') == 2\n",
    "assert run(flow, expression='1 / 2') == 0.5\n"
   ]
  },
  {
   "cell_type": "code",
   "execution_count": null,
   "metadata": {},
   "outputs": [],
   "source": [
    "flow.visualize()\n"
   ]
  }
 ],
 "metadata": {},
 "nbformat": 4,
 "nbformat_minor": 2
}
