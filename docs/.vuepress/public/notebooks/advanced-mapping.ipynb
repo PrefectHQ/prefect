{
 "cells": [
  {
   "cell_type": "code",
   "execution_count": null,
   "metadata": {},
   "outputs": [],
   "source": [
    "import requests\n",
    "from bs4 import BeautifulSoup\n",
    "from prefect import task, Flow, Parameter\n",
    "\n",
    "\n",
    "@task(tags=[\"web\"])\n",
    "def retrieve_url(url):\n",
    "    \"\"\"\n",
    "    Given a URL (string), retrieves html and\n",
    "    returns the html as a string.\n",
    "    \"\"\"\n",
    "\n",
    "    html = requests.get(url)\n",
    "    if html.ok:\n",
    "        return html.text\n",
    "    else:\n",
    "        raise ValueError(\"{} could not be retrieved.\".format(url))\n"
   ]
  },
  {
   "cell_type": "code",
   "execution_count": null,
   "metadata": {},
   "outputs": [],
   "source": [
    "@task\n",
    "def scrape_dialogue(episode_html):\n",
    "    \"\"\"\n",
    "    Given a string of html representing an episode page,\n",
    "    returns a tuple of (title, [(character, text)]) of the dialogue from that\n",
    "    episode\n",
    "    \"\"\"\n",
    "\n",
    "    episode = BeautifulSoup(episode_html, 'html.parser')\n",
    "    \n",
    "    title = episode.title.text.rstrip(' *').replace(\"'\", \"''\")\n",
    "    convos = episode.find_all('b') or episode.find_all('span', {'class': 'char'})\n",
    "    dialogue = []\n",
    "    for item in convos:\n",
    "        who = item.text.rstrip(': ').rstrip(' *').replace(\"'\", \"''\")\n",
    "        what = str(item.next_sibling).rstrip(' *').replace(\"'\", \"''\")\n",
    "        dialogue.append((who, what))\n",
    "    return (title, dialogue)\n"
   ]
  },
  {
   "cell_type": "code",
   "execution_count": null,
   "metadata": {},
   "outputs": [],
   "source": [
    "with Flow(\"xfiles\") as flow:\n",
    "    url = Parameter(\"url\")\n",
    "    episode = retrieve_url(url)\n",
    "    dialogue = scrape_dialogue(episode)\n",
    "\n",
    "\n",
    "flow.visualize()\n"
   ]
  },
  {
   "cell_type": "code",
   "execution_count": null,
   "metadata": {},
   "outputs": [],
   "source": [
    "episode_url = \"http://www.insidethex.co.uk/transcrp/scrp320.htm\"\n",
    "outer_space = flow.run(parameters={\"url\": episode_url},\n",
    "                       return_tasks=[dialogue])\n",
    "\n",
    "state = outer_space.result[dialogue] # the `State` object for the dialogue task\n",
    "first_five_spoken_lines = state.result[1][:5] # state.result is a tuple (episode_name, [dialogue])\n",
    "print(''.join([f'{speaker}: {words}' for speaker, words in first_five_spoken_lines))\n"
   ]
  },
  {
   "cell_type": "code",
   "execution_count": null,
   "metadata": {},
   "outputs": [],
   "source": [
    "@task\n",
    "def create_episode_list(base_url, main_html, bypass):\n",
    "    \"\"\"\n",
    "    Given the main page html, creates a list of episode URLs\n",
    "    \"\"\"\n",
    "\n",
    "    if bypass:\n",
    "        return [base_url]\n",
    "    \n",
    "    main_page = BeautifulSoup(main_html, 'html.parser')\n",
    "    \n",
    "    episodes = []\n",
    "    for link in main_page.find_all('a'):\n",
    "        url = link.get('href')\n",
    "        if 'transcrp/scrp' in (url or ''):\n",
    "            episodes.append(base_url + url)\n",
    "\n",
    "    return episodes\n"
   ]
  },
  {
   "cell_type": "code",
   "execution_count": null,
   "metadata": {},
   "outputs": [],
   "source": [
    "results = iterable_task.run()\n",
    "\n",
    "for item in results:\n",
    "    task.run(item)\n"
   ]
  },
  {
   "cell_type": "code",
   "execution_count": null,
   "metadata": {},
   "outputs": [],
   "source": [
    "with Flow(\"xfiles\") as flow:\n",
    "    url = Parameter(\"url\")\n",
    "    bypass = Parameter(\"bypass\", default=False, required=False)\n",
    "    home_page = retrieve_url(url)\n",
    "    episodes = create_episode_list(url, home_page, bypass=bypass)\n",
    "    episode = retrieve_url.map(episodes)\n",
    "    dialogue = scrape_dialogue.map(episode)\n"
   ]
  },
  {
   "cell_type": "code",
   "execution_count": null,
   "metadata": {},
   "outputs": [],
   "source": [
    "episode_url = \"http://www.insidethex.co.uk/transcrp/scrp320.htm\"\n",
    "outer_space = flow.run(parameters={\"url\": episode_url, \"bypass\": True},\n",
    "                       start_tasks=[bypass, episodes, url],\n",
    "                       return_tasks=[dialogue])\n"
   ]
  },
  {
   "cell_type": "code",
   "execution_count": null,
   "metadata": {},
   "outputs": [],
   "source": [
    "flow.visualize()\n"
   ]
  },
  {
   "cell_type": "code",
   "execution_count": null,
   "metadata": {},
   "outputs": [],
   "source": [
    "%%time\n",
    "scraped_state = flow.run(parameters={\"url\": \"http://www.insidethex.co.uk/\"}, return_tasks=[dialogue])\n",
    "#    CPU times: user 7.48 s, sys: 241 ms, total: 7.73 s\n",
    "#    Wall time: 4min 46s\n",
    "\n",
    "dialogue_state = scraped_state.result[dialogue] # list of State objects\n",
    "print('\\n'.join([f'{s.result[0]}: {s}' for s in dialogue_state[:5]]))\n"
   ]
  },
  {
   "cell_type": "code",
   "execution_count": null,
   "metadata": {},
   "outputs": [],
   "source": [
    "from prefect.engine.executors import DaskExecutor\n",
    "\n",
    "executor = DaskExecutor(processes=True)\n",
    "\n",
    "%%time\n",
    "scraped_state = flow.run(parameters={\"url\": \"http://www.insidethex.co.uk/\"},\n",
    "               return_tasks=flow.tasks,\n",
    "               executor=executor,\n",
    "               throttle={\"web\": 3})\n",
    "\n",
    "#    CPU times: user 9.7 s, sys: 1.67 s, total: 11.4 s\n",
    "#    Wall time: 1min 34s\n",
    "\n",
    "dialogue_state = scraped_state.result[dialogue] # list of State objects\n",
    "print('\\n'.join([f'{s.result[0]}: {s}' for s in dialogue_state[:5]]))\n"
   ]
  },
  {
   "cell_type": "code",
   "execution_count": null,
   "metadata": {},
   "outputs": [],
   "source": [
    "import sqlite3\n",
    "from contextlib import closing\n",
    "\n",
    "\n",
    "@task(tags=[\"db\"])\n",
    "def create_db(db_file):\n",
    "    with closing(sqlite3.connect(db_file)) as conn:\n",
    "        with closing(conn.cursor()) as c:\n",
    "            create_cmd = '''CREATE TABLE IF NOT EXISTS XFILES (EPISODE TEXT, CHARACTER TEXT, TEXT TEXT)'''\n",
    "            c.execute(create_cmd)\n",
    "            conn.commit()\n",
    "\n",
    "    \n",
    "@task(tags=[\"db\"])\n",
    "def insert_episode(db_file, episode):\n",
    "    with closing(sqlite3.connect(db_file)) as conn:\n",
    "        with closing(conn.cursor()) as c:\n",
    "            title, dialogue = episode\n",
    "            insert_cmd = \"INSERT INTO XFILES (EPISODE, CHARACTER, TEXT) VALUES\\n\"\n",
    "            values = ',\\n'.join([\"('{0}', '{1}', '{2}')\".format(title, *row) for row in dialogue]) + \";\"\n",
    "            c.execute(insert_cmd + values)\n",
    "            conn.commit()\n"
   ]
  },
  {
   "cell_type": "code",
   "execution_count": null,
   "metadata": {},
   "outputs": [],
   "source": [
    "from prefect import unmapped\n",
    "\n",
    "with flow:\n",
    "    db_file = Parameter(\"db_file\")\n",
    "    db = create_db(db_file)\n",
    "    final = insert_episode.map(episode=dialogue, db_file=unmapped(db_file), \n",
    "                               upstream_tasks=[unmapped(db)])\n"
   ]
  },
  {
   "cell_type": "code",
   "execution_count": null,
   "metadata": {},
   "outputs": [],
   "source": [
    "flow.visualize()\n"
   ]
  },
  {
   "cell_type": "code",
   "execution_count": null,
   "metadata": {},
   "outputs": [],
   "source": [
    "state = flow.run(parameters={\"url\": \"http://www.insidethex.co.uk/\", \n",
    "                             \"db_file\": \"xfiles_db.sqlite\"}, \n",
    "                 executor=executor,\n",
    "                 throttle={\"web\": 3, \"db\": 10},\n",
    "                 task_states=scraped_state.result,\n",
    "                 start_tasks=[final, db, db_file])\n"
   ]
  },
  {
   "cell_type": "code",
   "execution_count": null,
   "metadata": {},
   "outputs": [],
   "source": [
    "with closing(sqlite3.connect(\"xfiles_db.sqlite\")) as conn:\n",
    "        with closing(conn.cursor()) as c:\n",
    "            create_cmd = '''SELECT * FROM XFILES WHERE TEXT LIKE '%programming%';'''\n",
    "            c.execute(create_cmd)\n",
    "            programming_mentions = c.fetchall()\n",
    "\n",
    "print(programming_mentions)\n"
   ]
  },
  {
   "cell_type": "code",
   "execution_count": null,
   "metadata": {},
   "outputs": [],
   "source": [
    "final = flow.run(parameters={\"url\": \"http://www.insidethex.co.uk/transcrp/tlg105.htm\",\n",
    "                             \"bypass\": True,\n",
    "                             \"db_file\": \"xfiles_db.sqlite\"},\n",
    "                 start_tasks=[bypass, db_file, episodes, url])\n",
    "\n",
    "\n",
    "with closing(sqlite3.connect(\"xfiles_db.sqlite\")) as conn:\n",
    "        with closing(conn.cursor()) as c:\n",
    "            create_cmd = '''SELECT * FROM XFILES WHERE TEXT LIKE '%programming%';'''\n",
    "            c.execute(create_cmd)\n",
    "            programming_mentions = c.fetchall()\n",
    "\n",
    "print(programming_mentions)\n"
   ]
  }
 ],
 "metadata": {},
 "nbformat": 4,
 "nbformat_minor": 2
}
