{
 "cells": [
  {
   "cell_type": "code",
   "execution_count": null,
   "metadata": {},
   "outputs": [],
   "source": [
    "import requests\n",
    "from bs4 import BeautifulSoup\n",
    "from prefect import task, Flow, Parameter\n",
    "\n",
    "\n",
    "@task(tags=[\"web\"])\n",
    "def retrieve_url(url):\n",
    "    \"\"\"\n",
    "    Given a URL (string), retrieves html and\n",
    "    returns the html as a string.\n",
    "    \"\"\"\n",
    "\n",
    "    html = requests.get(url)\n",
    "    if html.ok:\n",
    "        return html.text\n",
    "    else:\n",
    "        raise ValueError(\"{} could not be retrieved.\".format(url))"
   ]
  },
  {
   "cell_type": "code",
   "execution_count": null,
   "metadata": {},
   "outputs": [],
   "source": [
    "@task\n",
    "def scrape_dialogue(episode_html):\n",
    "    \"\"\"\n",
    "    Given a string of html representing an episode page,\n",
    "    returns a tuple of (title, [(character, text)]) of the dialogue from that\n",
    "    episode\n",
    "    \"\"\"\n",
    "\n",
    "    episode = BeautifulSoup(episode_html, 'html.parser')\n",
    "    \n",
    "    title = episode.title.text.rstrip(' *').replace(\"'\", \"''\")\n",
    "    convos = episode.find_all('b') or episode.find_all('span', {'class': 'char'})\n",
    "    dialogue = []\n",
    "    for item in convos:\n",
    "        who = item.text.rstrip(': ').rstrip(' *').replace(\"'\", \"''\")\n",
    "        what = str(item.next_sibling).rstrip(' *').replace(\"'\", \"''\")\n",
    "        dialogue.append((who, what))\n",
    "    return (title, dialogue)"
   ]
  },
  {
   "cell_type": "code",
   "execution_count": null,
   "metadata": {},
   "outputs": [],
   "source": [
    "with Flow(\"xfiles\") as flow:\n",
    "    url = Parameter(\"url\")\n",
    "    episode = retrieve_url(url)\n",
    "    dialogue = scrape_dialogue(episode)\n",
    "\n",
    "\n",
    "flow.visualize()"
   ]
  },
  {
   "cell_type": "code",
   "execution_count": null,
   "metadata": {},
   "outputs": [],
   "source": [
    "episode_url = \"http://www.insidethex.co.uk/transcrp/scrp320.htm\"\n",
    "outer_space = flow.run(parameters={\"url\": episode_url},\n",
    "                       return_tasks=[dialogue])\n",
    "\n",
    "state = outer_space.result[dialogue] # the `State` object for the dialogue task\n",
    "first_five_spoken_lines = state.result[1][:5] # state.result is a tuple (episode_name, [dialogue])\n",
    "print(''.join([f'{speaker}: {words}' for speaker, words in first_five_spoken_lines]))"
   ]
  },
  {
   "cell_type": "code",
   "execution_count": null,
   "metadata": {},
   "outputs": [],
   "source": [
    "@task\n",
    "def create_episode_list(base_url, main_html, bypass):\n",
    "    \"\"\"\n",
    "    Given the main page html, creates a list of episode URLs\n",
    "    \"\"\"\n",
    "\n",
    "    if bypass:\n",
    "        return [base_url]\n",
    "    \n",
    "    main_page = BeautifulSoup(main_html, 'html.parser')\n",
    "    \n",
    "    episodes = []\n",
    "    for link in main_page.find_all('a'):\n",
    "        url = link.get('href')\n",
    "        if 'transcrp/scrp' in (url or ''):\n",
    "            episodes.append(base_url + url)\n",
    "\n",
    "    return episodes"
   ]
  },
  {
   "cell_type": "code",
   "execution_count": null,
   "metadata": {},
   "outputs": [],
   "source": [
    "with Flow(\"xfiles\") as flow:\n",
    "    url = Parameter(\"url\")\n",
    "    bypass = Parameter(\"bypass\", default=False, required=False)\n",
    "    home_page = retrieve_url(url)\n",
    "    episodes = create_episode_list(url, home_page, bypass=bypass)\n",
    "    episode = retrieve_url.map(episodes)\n",
    "    dialogue = scrape_dialogue.map(episode)"
   ]
  },
  {
   "cell_type": "code",
   "execution_count": null,
   "metadata": {},
   "outputs": [],
   "source": [
    "episode_url = \"http://www.insidethex.co.uk/transcrp/scrp320.htm\"\n",
    "outer_space = flow.run(parameters={\"url\": episode_url, \"bypass\": True},\n",
    "                       start_tasks=[bypass, episodes, url],\n",
    "                       return_tasks=[dialogue])"
   ]
  },
  {
   "cell_type": "code",
   "execution_count": null,
   "metadata": {},
   "outputs": [],
   "source": [
    "flow.visualize()"
   ]
  },
  {
   "cell_type": "code",
   "execution_count": null,
   "metadata": {},
   "outputs": [],
   "source": [
    "%%time\n",
    "scraped_state = flow.run(parameters={\"url\": \"http://www.insidethex.co.uk/\"}, return_tasks=[dialogue])\n",
    "#    CPU times: user 7.48 s, sys: 241 ms, total: 7.73 s\n",
    "#    Wall time: 4min 46s\n",
    "\n",
    "dialogue_state = scraped_state.result[dialogue] # list of State objects\n",
    "print('\\n'.join([f'{s.result[0]}: {s}' for s in dialogue_state[:5]]))"
   ]
  },
  {
   "cell_type": "code",
   "execution_count": null,
   "metadata": {},
   "outputs": [],
   "source": [
    "from prefect.engine.executors import DaskExecutor\n",
    "\n",
    "executor = DaskExecutor(local_processes=True)"
   ]
  },
  {
   "cell_type": "code",
   "execution_count": null,
   "metadata": {},
   "outputs": [],
   "source": [
    "%%time\n",
    "scraped_state = flow.run(parameters={\"url\": \"http://www.insidethex.co.uk/\"},\n",
    "               return_tasks=flow.tasks,\n",
    "               executor=executor)\n",
    "\n",
    "#    CPU times: user 9.7 s, sys: 1.67 s, total: 11.4 s\n",
    "#    Wall time: 1min 34s\n",
    "\n",
    "dialogue_state = scraped_state.result[dialogue] # list of State objects\n",
    "print('\\n'.join([f'{s.result[0]}: {s}' for s in dialogue_state[:5]]))"
   ]
  },
  {
   "cell_type": "code",
   "execution_count": null,
   "metadata": {},
   "outputs": [],
   "source": [
    "from prefect.tasks.database import SQLiteScriptTask\n",
    "\n",
    "\n",
    "create_db = SQLiteScriptTask(name=\"Create DB\",\n",
    "                             db=\"xfiles_db.sqlite\",\n",
    "                             script=\"CREATE TABLE IF NOT EXISTS XFILES (EPISODE TEXT, CHARACTER TEXT, TEXT TEXT)\",\n",
    "                             tags=[\"db\"])\n",
    "\n",
    "\n",
    "@task\n",
    "def create_episode_script(episode):\n",
    "    title, dialogue = episode\n",
    "    insert_cmd = \"INSERT INTO XFILES (EPISODE, CHARACTER, TEXT) VALUES\\n\"\n",
    "    values = ',\\n'.join([\"('{0}', '{1}', '{2}')\".format(title, *row) for row in dialogue]) + \";\"\n",
    "    return insert_cmd + values\n",
    "\n",
    "\n",
    "insert_episode = SQLiteScriptTask(name=\"Insert Episode\",\n",
    "                                  db=\"xfiles_db.sqlite\", \n",
    "                                  tags=[\"db\"])"
   ]
  },
  {
   "cell_type": "code",
   "execution_count": null,
   "metadata": {},
   "outputs": [],
   "source": [
    "from prefect import unmapped\n",
    "\n",
    "with flow:\n",
    "    db = create_db()\n",
    "    ep_script = create_episode_script.map(episode=dialogue)\n",
    "    final = insert_episode.map(ep_script, upstream_tasks=[unmapped(db)])"
   ]
  },
  {
   "cell_type": "code",
   "execution_count": null,
   "metadata": {},
   "outputs": [],
   "source": [
    "flow.visualize()"
   ]
  },
  {
   "cell_type": "code",
   "execution_count": null,
   "metadata": {},
   "outputs": [],
   "source": [
    "state = flow.run(parameters={\"url\": \"http://www.insidethex.co.uk/\"},\n",
    "                 executor=executor,\n",
    "                 task_states=scraped_state.result,\n",
    "                 start_tasks=[ep_script, db])"
   ]
  },
  {
   "cell_type": "code",
   "execution_count": null,
   "metadata": {},
   "outputs": [],
   "source": [
    "import sqlite3\n",
    "from contextlib import closing\n",
    "\n",
    "\n",
    "with closing(sqlite3.connect(\"xfiles_db.sqlite\")) as conn:\n",
    "        with closing(conn.cursor()) as c:\n",
    "            create_cmd = '''SELECT * FROM XFILES WHERE TEXT LIKE '%programming%';'''\n",
    "            c.execute(create_cmd)\n",
    "            programming_mentions = c.fetchall()\n",
    "\n",
    "print(programming_mentions)"
   ]
  },
  {
   "cell_type": "code",
   "execution_count": null,
   "metadata": {},
   "outputs": [],
   "source": [
    "final = flow.run(parameters={\"url\": \"http://www.insidethex.co.uk/transcrp/tlg105.htm\",\n",
    "                             \"bypass\": True},\n",
    "                 start_tasks=[bypass, db, episodes, url])\n",
    "\n",
    "\n",
    "with closing(sqlite3.connect(\"xfiles_db.sqlite\")) as conn:\n",
    "        with closing(conn.cursor()) as c:\n",
    "            create_cmd = '''SELECT * FROM XFILES WHERE TEXT LIKE '%programming%';'''\n",
    "            c.execute(create_cmd)\n",
    "            programming_mentions = c.fetchall()\n",
    "\n",
    "print(programming_mentions)"
   ]
  }
 ],
 "metadata": {
  "kernelspec": {
   "display_name": "Python 3",
   "language": "python",
   "name": "python3"
  },
  "language_info": {
   "codemirror_mode": {
    "name": "ipython",
    "version": 3
   },
   "file_extension": ".py",
   "mimetype": "text/x-python",
   "name": "python",
   "nbconvert_exporter": "python",
   "pygments_lexer": "ipython3",
   "version": "3.6.7"
  }
 },
 "nbformat": 4,
 "nbformat_minor": 2
}
