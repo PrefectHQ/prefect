{
 "cells": [
  {
   "cell_type": "code",
   "execution_count": null,
   "metadata": {},
   "outputs": [],
   "source": [
    "from prefect import Flow, tags, task\n",
    "from time import sleep\n",
    "import random\n",
    "import sys\n",
    "\n",
    "# --------\n",
    "# assign tags at task creation\n",
    "# --------\n",
    "\n",
    "@task(tags=[\"print\"])\n",
    "def say_hi(name):\n",
    "    \"\"\"Prints `name` 10 times.\"\"\"\n",
    "    pause_at = random.randint(0, 10)\n",
    "    for i in range(10):\n",
    "        if i == pause_at:\n",
    "            sleep(1)\n",
    "        print(f'{name} was here')\n",
    "        sys.stdout.flush()\n",
    "        \n",
    "# --------\n",
    "# or at flow creation\n",
    "# --------\n",
    "        \n",
    "with Flow() as f:\n",
    "    with tags(\"example\"):\n",
    "        a = say_hi(\"alice\")\n",
    "        b = say_hi(\"bob\")\n",
    "    c = say_hi(\"chris\")\n",
    "\n",
    "a.tags # {'example', 'print'}\n",
    "c.tags # {'print'}\n"
   ]
  },
  {
   "cell_type": "code",
   "execution_count": null,
   "metadata": {},
   "outputs": [],
   "source": [
    "with Flow(throttle={'print': 1}) as f:\n",
    "    ...\n"
   ]
  },
  {
   "cell_type": "code",
   "execution_count": null,
   "metadata": {},
   "outputs": [],
   "source": [
    "f.run(throttle={'print': 1})\n"
   ]
  },
  {
   "cell_type": "code",
   "execution_count": null,
   "metadata": {},
   "outputs": [],
   "source": [
    "f.run()\n",
    "# Success(\"All reference tasks succeeded.\")\n",
    "\n",
    "# chris was here\n",
    "# ... 9 more times ...\n",
    "# bob was here\n",
    "# ... 9 more times ...\n",
    "# alice was here\n",
    "# ... 9 more times ...\n"
   ]
  },
  {
   "cell_type": "code",
   "execution_count": null,
   "metadata": {},
   "outputs": [],
   "source": [
    "from prefect.engine.executors import DaskExecutor\n",
    "\n",
    "f.run(executor=DaskExecutor(processes=True))\n",
    "# Success(\"All reference tasks succeeded.\")\n"
   ]
  },
  {
   "cell_type": "code",
   "execution_count": null,
   "metadata": {},
   "outputs": [],
   "source": [
    "f.run(executor=DaskExecutor(processes=True), throttle={'print': 1})\n",
    "# Success(\"All reference tasks succeeded.\")\n"
   ]
  },
  {
   "cell_type": "code",
   "execution_count": null,
   "metadata": {},
   "outputs": [],
   "source": [
    "f.run(executor=DaskExecutor(processes=True), throttle={'print': 2})\n",
    "# Success(\"All reference tasks succeeded.\")\n"
   ]
  },
  {
   "cell_type": "code",
   "execution_count": null,
   "metadata": {},
   "outputs": [],
   "source": [
    "f.run(executor=DaskExecutor(processes=True), throttle={'example': 1})\n",
    "# Success(\"All reference tasks succeeded.\")\n"
   ]
  },
  {
   "cell_type": "code",
   "execution_count": null,
   "metadata": {},
   "outputs": [],
   "source": [
    "with Flow() as big_flow:\n",
    "    with tags(\"group C\"):\n",
    "        a = say_hi(\"alice\")\n",
    "        b = say_hi(\"bob\")\n",
    "    with tags(\"group B\"):\n",
    "        c = say_hi(\"chris\")\n",
    "        with tags(\"group A\"):\n",
    "            d = say_hi(\"jeremiah\")\n",
    "            e = say_hi(\"josh\")\n",
    "            \n",
    "e.tags # {\"group A\", \"group B\", \"group C\"}\n",
    "\n",
    "# --------\n",
    "# run the flow\n",
    "# --------\n",
    "\n",
    "big_flow.run(executor=DaskExecutor(processes=True),\n",
    "             throttle={'group A': 1, 'group B': 2, 'group C': 1})\n",
    "# Success(\"All reference tasks succeeded.\")\n"
   ]
  }
 ],
 "metadata": {},
 "nbformat": 4,
 "nbformat_minor": 2
}
