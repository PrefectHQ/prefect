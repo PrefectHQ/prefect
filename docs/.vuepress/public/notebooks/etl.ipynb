{
 "cells": [
  {
   "cell_type": "code",
   "execution_count": null,
   "metadata": {},
   "outputs": [],
   "source": [
    "from prefect import task\n",
    "\n",
    "@task\n",
    "def extract():\n",
    "    \"\"\"Get a list of data\"\"\"\n",
    "    return [1, 2, 3]\n",
    "\n",
    "@task\n",
    "def transform(data):\n",
    "    \"\"\"Multiply the input by 10\"\"\"\n",
    "    return [i * 10 for i in data]\n",
    "\n",
    "@task\n",
    "def load(data):\n",
    "    \"\"\"Print the data to indicate it was received\"\"\"\n",
    "    print(\"Here's your data: {}\".format(data))\n"
   ]
  },
  {
   "cell_type": "code",
   "execution_count": null,
   "metadata": {},
   "outputs": [],
   "source": [
    "from prefect import Flow\n",
    "\n",
    "with Flow('ETL') as flow:\n",
    "    e = extract()\n",
    "    t = transform(e)\n",
    "    l = load(t)\n",
    "\n",
    "flow.run() # prints \"Here's your data: [10, 20, 30]\"\n"
   ]
  },
  {
   "cell_type": "code",
   "execution_count": null,
   "metadata": {},
   "outputs": [],
   "source": [
    "from prefect import Flow\n",
    "\n",
    "flow = Flow('ETL')\n",
    "flow.set_dependencies(transform, keyword_tasks=dict(data=extract))\n",
    "flow.set_dependencies(load, keyword_tasks=dict(data=transform))\n",
    "\n",
    "flow.run() # prints \"Here's your data: [10, 20, 30]\"\n"
   ]
  }
 ],
 "metadata": {},
 "nbformat": 4,
 "nbformat_minor": 2
}
