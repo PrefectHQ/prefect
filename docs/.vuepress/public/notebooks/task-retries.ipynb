{
 "cells": [
  {
   "cell_type": "code",
   "execution_count": null,
   "metadata": {},
   "outputs": [],
   "source": [
    "import prefect\n",
    "from prefect import task, Flow\n",
    "\n",
    "import requests\n",
    "from datetime import timedelta\n",
    "from unittest.mock import MagicMock, patch\n",
    "from time import sleep\n",
    "\n",
    "\n",
    "@task\n",
    "def create_payload():\n",
    "    \"Performs expensive computation to create / return an URL\"\n",
    "\n",
    "    sleep(5) # for whatever reason, getting to this point takes a long time\n",
    "    return 'http://www.google.com'\n",
    "\n",
    "\n",
    "@task(max_retries=1, retry_delay=timedelta(minutes=10))\n",
    "def ping_external_service(url):\n",
    "    \"Performs a simple GET request to the provided URL, and returns the text of the response.\"\n",
    "\n",
    "    if prefect.context.get(\"fail\"):\n",
    "        raise ValueError(\"Request failed with status code 418.\")\n",
    "    else:\n",
    "        r = requests.get(url)\n",
    "        return r.text\n"
   ]
  },
  {
   "cell_type": "code",
   "execution_count": null,
   "metadata": {},
   "outputs": [],
   "source": [
    "with Flow(name=\"retry example\") as f:\n",
    "    text = ping_external_service(create_payload)\n"
   ]
  },
  {
   "cell_type": "code",
   "execution_count": null,
   "metadata": {},
   "outputs": [],
   "source": [
    "%%time\n",
    "with prefect.context(fail=True) as ctx:\n",
    "    flow_state = f.run(return_tasks=f.tasks, context=ctx)\n",
    "\n",
    "##    CPU times: user 5.65 ms, sys: 1.46 ms, total: 7.12 ms\n",
    "##    Wall time: 5.01 s\n"
   ]
  },
  {
   "cell_type": "code",
   "execution_count": null,
   "metadata": {},
   "outputs": [],
   "source": [
    "print(\"Flow state: {}\\n\".format(flow_state))\n",
    "print(\"Flow results: {}\".format(flow_state.result))\n",
    "\n",
    "## Flow state: Pending(\"Some terminal tasks are still pending.\")\n",
    "\n",
    "## Flow results: {\n",
    "##      <Task: create_payload>: Success(\"Task run succeeded.\"),\n",
    "##      <Task: ping_external_service>: Retrying(\"Retrying Task (after attempt 1 of 2)\")\n",
    "##                }\n"
   ]
  },
  {
   "cell_type": "code",
   "execution_count": null,
   "metadata": {},
   "outputs": [],
   "source": [
    "%%time\n",
    "new_flow_state = f.run(return_tasks=[text],\n",
    "                       task_states={text: flow_state.result[text]},\n",
    "                       start_tasks=[text])\n",
    "\n",
    "##    CPU times: user 15.5 ms, sys: 5.91 ms, total: 21.4 ms\n",
    "##    Wall time: 167 ms\n"
   ]
  },
  {
   "cell_type": "code",
   "execution_count": null,
   "metadata": {},
   "outputs": [],
   "source": [
    "print(\"Flow state: {}\\n\".format(new_flow_state))\n",
    "print(\"Flow results: {}\".format(new_flow_state.result))\n",
    "\n",
    "##     Flow state: Success(\"All reference tasks succeeded.\")\n",
    "\n",
    "##     Flow results: {<Task: ping_external_service>: Success(\"Task run succeeded.\")}\n"
   ]
  }
 ],
 "metadata": {},
 "nbformat": 4,
 "nbformat_minor": 2
}
