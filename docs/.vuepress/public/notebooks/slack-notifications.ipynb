{
 "cells": [
  {
   "cell_type": "code",
   "execution_count": null,
   "metadata": {},
   "outputs": [],
   "source": [
    "from prefect import Flow, task\n",
    "from prefect.utilities.notifications import slack_notifier\n",
    "\n",
    "\n",
    "@task(name=\"1/x task\", state_handlers=[slack_notifier])\n",
    "def div(x):\n",
    "    return 1 / x\n",
    "\n",
    "\n",
    "@task(name=\"Add 1 task\", state_handlers=[slack_notifier])\n",
    "def add(x):\n",
    "    return x + 1\n",
    "\n",
    "\n",
    "with Flow() as f:\n",
    "    res = div(x=add(-1))\n",
    "\n",
    "\n",
    "final_state = f.run()\n"
   ]
  },
  {
   "cell_type": "code",
   "execution_count": null,
   "metadata": {},
   "outputs": [],
   "source": [
    "def generic_state_handler(task_or_flow, old_state, new_state):\n",
    "    # ...\n",
    "    # implement your favorite custom logic to occur on state changes\n",
    "    # ...\n",
    "    return new_state # this is important\n"
   ]
  },
  {
   "cell_type": "code",
   "execution_count": null,
   "metadata": {},
   "outputs": [],
   "source": [
    "from prefect import task\n",
    "from prefect.engine.states import Failed\n",
    "from prefect.utilities.notifications import slack_notifier\n",
    "\n",
    "handler = slack_notifier(only_states=[Failed]) # we can call it early\n",
    "\n",
    "@task(state_handler=[handler])\n",
    "def add(x, y):\n",
    "    return x + y\n"
   ]
  }
 ],
 "metadata": {},
 "nbformat": 4,
 "nbformat_minor": 2
}
