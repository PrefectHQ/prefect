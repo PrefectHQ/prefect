{
 "cells": [
  {
   "cell_type": "code",
   "execution_count": null,
   "metadata": {},
   "outputs": [],
   "source": [
    "from prefect import task, Flow\n",
    "from prefect.triggers import manual_only, any_failed\n",
    "from prefect.tasks.control_flow import ifelse\n",
    "\n",
    "\n",
    "@task\n",
    "def pull_critical_data():\n",
    "    \"Pulls and cleans data, which is then returned.\"\n",
    "    return 1\n",
    "\n",
    "\n",
    "@task\n",
    "def build_report(data):\n",
    "    \"Compiles data into a report which is saved somewhere.\"\n",
    "    return 'quality report'\n",
    "\n",
    "\n",
    "@task(trigger=manual_only)\n",
    "def email_report_to_board(report):\n",
    "    \"\"\"\n",
    "    Emails `report` as an attachment to entire board of directors.\n",
    "    \n",
    "    Returns `True` if email is sent correctly, `False` otherwise.\n",
    "    \"\"\"\n",
    "    return True\n",
    "\n",
    "\n",
    "@task(trigger=any_failed)\n",
    "def complain_to_data_analyst():\n",
    "    \"Alerts the appropriate person to review reporting code.\"\n",
    "    pass\n",
    "\n",
    "\n",
    "with Flow() as f:\n",
    "    data = pull_critical_data()\n",
    "    report = build_report(data)\n",
    "    board_email = email_report_to_board(report)\n",
    "    complaint = complain_to_data_analyst(upstream_tasks=[board_email])\n"
   ]
  },
  {
   "cell_type": "code",
   "execution_count": null,
   "metadata": {},
   "outputs": [],
   "source": [
    "f.set_reference_tasks([board_email])\n"
   ]
  },
  {
   "cell_type": "code",
   "execution_count": null,
   "metadata": {},
   "outputs": [],
   "source": [
    "flow_state = f.run()\n",
    "\n",
    "print(\"Flow state: {}\\n\".format(flow_state))\n",
    "print(flow_state.result)\n",
    "\n",
    "##    Flow state: Pending(\"Some terminal tasks are still pending.\")\n",
    "    \n",
    "##    Flow results: {\n",
    "##     <Task: build_report>: Success(\"Task run succeeded.\"), \n",
    "##     <Task: email_report_to_board>: Paused("Trigger function is "manual_only""),
    "##     <Task: complain_to_data_analyst>: Pending()\n",
    "##     }\n"
   ]
  },
  {
   "cell_type": "code",
   "execution_count": null,
   "metadata": {},
   "outputs": [],
   "source": [
    "flow_state.result[report].result\n",
    "### 'quality report'\n"
   ]
  },
  {
   "cell_type": "code",
   "execution_count": null,
   "metadata": {},
   "outputs": [],
   "source": [
    "new_flow_state = f.run(task_states=flow_state.result, \n",
    "                       start_tasks=[board_email])\n",
    "\n",
    "print(\"Flow state: {}\\n\".format(new_flow_state))\n",
    "print(new_flow_state.result)\n",
    "\n",
    "##    Flow state: Success(\"All reference tasks succeeded.\")\n",
    "    \n",
    "##    Flow result: { \n",
    "##       <Task: email_report_to_board>: Success(\"Task run succeeded.\"), \n",
    "##       <Task: complain_to_data_analyst>: TriggerFailed(\"Trigger was \"any_failed\" but none of the upstream tasks failed.\")\n",
    "##       }\n"
   ]
  }
 ],
 "metadata": {},
 "nbformat": 4,
 "nbformat_minor": 2
}
