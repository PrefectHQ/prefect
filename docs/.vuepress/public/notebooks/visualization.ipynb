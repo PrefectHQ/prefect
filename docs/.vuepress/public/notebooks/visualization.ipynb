{
 "cells": [
  {
   "cell_type": "code",
   "execution_count": null,
   "metadata": {},
   "outputs": [],
   "source": [
    "from prefect import Flow, Parameter\n",
    "\n",
    "with Flow(\"math\") as f:\n",
    "    x, y = Parameter(\"x\"), Parameter(\"y\")\n",
    "    a = x + y\n",
    "    \n",
    "f.visualize()\n"
   ]
  },
  {
   "cell_type": "code",
   "execution_count": null,
   "metadata": {},
   "outputs": [],
   "source": [
    "from prefect import task\n",
    "from prefect.tasks.control_flow import switch\n",
    "\n",
    "@task\n",
    "def handle_zero():\n",
    "    return float('nan')\n",
    "\n",
    "with Flow(\"math\") as f:\n",
    "    x, y = Parameter(\"x\"), Parameter(\"y\")\n",
    "    a = x + y\n",
    "    switch(a, cases={0: handle_zero(),\n",
    "                     1: 6 / a})\n",
    "##    PrefectWarning: One of the tasks passed to the switch condition \n",
    "##    has upstream dependencies: <Task: Div>. \n",
    "##    Those upstream tasks could run even if the switch condition fails, \n",
    "##    which might cause unexpected results.\n"
   ]
  },
  {
   "cell_type": "code",
   "execution_count": null,
   "metadata": {},
   "outputs": [],
   "source": [
    "f.visualize()\n"
   ]
  },
  {
   "cell_type": "code",
   "execution_count": null,
   "metadata": {},
   "outputs": [],
   "source": [
    "f.root_tasks()\n",
    "# {<Parameter: x>, <Parameter: y>, <Task: 6>}\n"
   ]
  },
  {
   "cell_type": "code",
   "execution_count": null,
   "metadata": {},
   "outputs": [],
   "source": [
    "flow_state = f.run()\n",
    "f.visualize(flow_state=flow_state)\n"
   ]
  },

 ],
 "metadata": {},
 "nbformat": 4,
 "nbformat_minor": 2
}
