{
 "cells": [
  {
   "cell_type": "code",
   "execution_count": null,
   "id": "celtic-panel",
   "metadata": {
    "execution": {
     "iopub.execute_input": "2021-03-22T19:42:07.985829Z",
     "iopub.status.busy": "2021-03-22T19:42:07.985028Z",
     "iopub.status.idle": "2021-03-22T19:42:07.987056Z",
     "shell.execute_reply": "2021-03-22T19:42:07.987619Z"
    },
    "jupyter": {
     "source_hidden": true
    },
    "papermill": {
     "duration": 0.021263,
     "end_time": "2021-03-22T19:42:07.987969",
     "exception": false,
     "start_time": "2021-03-22T19:42:07.966706",
     "status": "completed"
    },
    "tags": [
     "parameters"
    ]
   },
   "outputs": [],
   "source": [
    "a = 1\n",
    "b = 2"
   ]
  },
  {
   "cell_type": "code",
   "execution_count": null,
   "id": "conditional-texas",
   "metadata": {
    "execution": {
     "iopub.execute_input": "2021-03-22T19:42:08.003263Z",
     "iopub.status.busy": "2021-03-22T19:42:08.002575Z",
     "iopub.status.idle": "2021-03-22T19:42:08.004279Z",
     "shell.execute_reply": "2021-03-22T19:42:08.004860Z"
    },
    "papermill": {
     "duration": 0.010737,
     "end_time": "2021-03-22T19:42:08.005068",
     "exception": false,
     "start_time": "2021-03-22T19:42:07.994331",
     "status": "completed"
    },
    "tags": [
     "injected-parameters"
    ]
   },
   "outputs": [],
   "source": [
    "# Parameters\n",
    "a = 5"
   ]
  },
  {
   "cell_type": "code",
   "execution_count": null,
   "id": "romance-slovakia",
   "metadata": {
    "execution": {
     "iopub.execute_input": "2021-03-22T19:42:08.016671Z",
     "iopub.status.busy": "2021-03-22T19:42:08.016124Z",
     "iopub.status.idle": "2021-03-22T19:42:08.018182Z",
     "shell.execute_reply": "2021-03-22T19:42:08.018569Z"
    },
    "jupyter": {
     "source_hidden": true
    },
    "papermill": {
     "duration": 0.009283,
     "end_time": "2021-03-22T19:42:08.018737",
     "exception": false,
     "start_time": "2021-03-22T19:42:08.009454",
     "status": "completed"
    },
    "tags": []
   },
   "outputs": [],
   "source": [
    "print(f\"a*b={a*b}\")"
   ]
  },
  {
   "cell_type": "code",
   "execution_count": null,
   "id": "sublime-bishop",
   "metadata": {
    "execution": {
     "iopub.execute_input": "2021-03-22T19:42:08.029408Z",
     "iopub.status.busy": "2021-03-22T19:42:08.028823Z",
     "iopub.status.idle": "2021-03-22T19:42:10.045336Z",
     "shell.execute_reply": "2021-03-22T19:42:10.046043Z"
    },
    "papermill": {
     "duration": 2.023764,
     "end_time": "2021-03-22T19:42:10.046365",
     "exception": false,
     "start_time": "2021-03-22T19:42:08.022601",
     "status": "completed"
    },
    "tags": []
   },
   "outputs": [],
   "source": [
    "import time\n",
    "for i in range(1,3):\n",
    "    print(i)\n",
    "    time.sleep(1)"
   ]
  },
  {
   "cell_type": "code",
   "execution_count": null,
   "id": "marked-party",
   "metadata": {
    "execution": {
     "iopub.execute_input": "2021-03-22T19:42:10.067742Z",
     "iopub.status.busy": "2021-03-22T19:42:10.066912Z",
     "iopub.status.idle": "2021-03-22T19:42:10.068997Z",
     "shell.execute_reply": "2021-03-22T19:42:10.069439Z"
    },
    "jupyter": {
     "source_hidden": true
    },
    "papermill": {
     "duration": 0.013821,
     "end_time": "2021-03-22T19:42:10.069622",
     "exception": false,
     "start_time": "2021-03-22T19:42:10.055801",
     "status": "completed"
    },
    "tags": []
   },
   "outputs": [],
   "source": [
    "# This cell contains commented Python code"
   ]
  }
 ],
 "metadata": {
  "kernelspec": {
   "display_name": "Python 3",
   "language": "python",
   "name": "python3"
  },
  "language_info": {
   "codemirror_mode": {
    "name": "ipython",
    "version": 3
   },
   "file_extension": ".py",
   "mimetype": "text/x-python",
   "name": "python",
   "nbconvert_exporter": "python",
   "pygments_lexer": "ipython3",
   "version": "3.8.8"
  },
  "papermill": {
   "default_parameters": {},
   "duration": 3.043429,
   "end_time": "2021-03-22T19:42:10.290085",
   "environment_variables": {},
   "exception": null,
   "input_path": "tests/tasks/jupyter/sample_notebook.ipynb",
   "output_path": "tests/tasks/jupyter/sample_notebook.ipynb",
   "parameters": {
    "a": 5
   },
   "start_time": "2021-03-22T19:42:07.246656",
   "version": "2.3.3"
  }
 },
 "nbformat": 4,
 "nbformat_minor": 5
}