{
 "cells": [
  {
   "cell_type": "code",
   "execution_count": null,
   "id": "celtic-panel",
   "metadata": {},
   "outputs": [],
   "source": [
    "a = 1\n",
    "b = 2"
   ]
  },
  {
   "cell_type": "code",
   "execution_count": null,
   "id": "conditional-texas",
   "metadata": {},
   "outputs": [],
   "source": [
    "# Parameters\n",
    "a = 5"
   ]
  },
  {
   "cell_type": "code",
   "execution_count": null,
   "id": "romance-slovakia",
   "metadata": {},
   "outputs": [],
   "source": [
    "print(f\"a*b={a*b}\")"
   ]
  },
  {
   "cell_type": "code",
   "execution_count": null,
   "id": "sublime-bishop",
   "metadata": {},
   "outputs": [],
   "source": [
    "import time\n",
    "\n",
    "for i in range(1, 3):\n",
    "    print(i)\n",
    "    time.sleep(1)"
   ]
  },
  {
   "cell_type": "code",
   "execution_count": null,
   "id": "marked-party",
   "metadata": {},
   "outputs": [],
   "source": [
    "# This cell contains commented Python code"
   ]
  }
 ],
 "metadata": {
  "kernelspec": {
   "display_name": "Python",
   "language": "python",
   "name": "python"
  },
  "language_info": {
   "name": "python",
   "pygments_lexer": "ipython3"
  }
 },
 "nbformat": 4,
 "nbformat_minor": 5
}
