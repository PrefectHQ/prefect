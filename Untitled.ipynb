{
 "cells": [
  {
   "cell_type": "code",
   "execution_count": null,
   "id": "cea82aac-1a79-4b53-a7c2-2444aa1b2f60",
   "metadata": {},
   "outputs": [],
   "source": [
    "from prefect.pydantic import BaseModel"
   ]
  },
  {
   "cell_type": "code",
   "execution_count": null,
   "id": "631b8823-ff95-4cbd-993b-ecd2d7f9c3e0",
   "metadata": {},
   "outputs": [],
   "source": [
    "from pydantic import ConfigDict\n",
    "\n",
    "class Person(BaseModel):\n",
    "    first_name: str = 's'\n",
    "    model_config = ConfigDict(max_anystr_length = 20)\n"
   ]
  },
  {
   "cell_type": "code",
   "execution_count": 8,
   "id": "99a95f8f-83fe-428f-9375-ba1628be0605",
   "metadata": {},
   "outputs": [
    {
     "data": {
      "text/plain": [
       "20"
      ]
     },
     "execution_count": 8,
     "metadata": {},
     "output_type": "execute_result"
    }
   ],
   "source": [
    "Person().Config.max_anystr_length"
   ]
  },
  {
   "cell_type": "code",
   "execution_count": null,
   "id": "08063043-9730-4a8a-a959-9ae661dc4391",
   "metadata": {},
   "outputs": [],
   "source": []
  }
 ],
 "metadata": {
  "kernelspec": {
   "display_name": "Python 3 (ipykernel)",
   "language": "python",
   "name": "python3"
  },
  "language_info": {
   "codemirror_mode": {
    "name": "ipython",
    "version": 3
   },
   "file_extension": ".py",
   "mimetype": "text/x-python",
   "name": "python",
   "nbconvert_exporter": "python",
   "pygments_lexer": "ipython3",
   "version": "3.12.2"
  }
 },
 "nbformat": 4,
 "nbformat_minor": 5
}
